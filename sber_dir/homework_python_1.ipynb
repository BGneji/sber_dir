{
 "cells": [
  {
   "cell_type": "code",
   "execution_count": 36,
   "metadata": {},
   "outputs": [],
   "source": [
    "import csv\n",
    "import time\n",
    "# Сколько всего вакансий?\n",
    "# За какой период эти вакансии?\n",
    "# Есть ли вакансии менеджеров с использованием Python, если да сколько их?\n",
    "# Сколько вакансий для аналитика данных?\n",
    "# Сколько вакансий для аналитика данных с использованием Python?  8\n",
    "\n",
    "\n",
    "str_ = 'Python'\n",
    "str_1 = 'менеджер'\n",
    "str_2 = 'аналитик'\n",
    "file = 'vacancy_nh.csv'\n",
    "\n",
    "data_analyst = []\n",
    "data_analyst_python = []\n",
    "date_list = []\n",
    "\n",
    "l = []\n",
    "c = 0"
   ]
  },
  {
   "cell_type": "code",
   "execution_count": 39,
   "metadata": {},
   "outputs": [
    {
     "name": "stdout",
     "output_type": "stream",
     "text": [
      "Сколько всего вакансий?  - 4002 всего вакансий\n",
      "За какой период эти вакансии? 2020-10-15 - 2021-03-17\n",
      "Есть ли вакансии менеджеров с использованием Python, если да сколько их?  - 5 вакансий\n",
      "Сколько вакансий для аналитика данных? - 389 вакансий\n",
      "Сколько вакансий для аналитика данных с использованием Python?  - 8 вакансий\n"
     ]
    }
   ],
   "source": [
    "with open(file, mode='r', newline='', encoding='utf-8') as csvfile:\n",
    "    csv_reader = csv.reader(csvfile)\n",
    "    # пропускаем первую строчку\n",
    "    next(csv_reader)\n",
    "    for i, row in enumerate(csv_reader):\n",
    "        c += 1\n",
    "        date_list.append(row[6])\n",
    "        for g in range(len(row)):\n",
    "            if str_.lower() in row[4].lower() and str_1.lower() in row[5].lower():\n",
    "                if row not in l:\n",
    "                    l.append(row)\n",
    "        for elem in range(len(row)):\n",
    "            if str_2.lower() in row[4].lower():\n",
    "                if row not in data_analyst:\n",
    "                    data_analyst.append(row)\n",
    "        for item in range(len(row)):\n",
    "            if str_.lower() in row[4].lower() and str_2.lower() in row[5].lower():\n",
    "                if row not in data_analyst_python:\n",
    "                    data_analyst_python.append(row)\n",
    "\n",
    "date_list.sort()\n",
    "filtered_sorted_list = [item for item in date_list if item not in ('', None)]\n",
    "\n",
    "print(f'Сколько всего вакансий?  - {c} всего вакансий')\n",
    "print(\n",
    "    f'За какой период эти вакансии? {filtered_sorted_list[0]} - {filtered_sorted_list[len(filtered_sorted_list) - 1]}')\n",
    "print(f'Есть ли вакансии менеджеров с использованием Python, если да сколько их?  - {len(l)} вакансий')\n",
    "print(f'Сколько вакансий для аналитика данных? - {len(data_analyst)} вакансий')\n",
    "print(f'Сколько вакансий для аналитика данных с использованием Python?  - {len(data_analyst_python)} вакансий')\n"
   ]
  }
 ],
 "metadata": {
  "kernelspec": {
   "display_name": "Python 3",
   "language": "python",
   "name": "python3"
  },
  "language_info": {
   "codemirror_mode": {
    "name": "ipython",
    "version": 3
   },
   "file_extension": ".py",
   "mimetype": "text/x-python",
   "name": "python",
   "nbconvert_exporter": "python",
   "pygments_lexer": "ipython3",
   "version": "3.12.3"
  }
 },
 "nbformat": 4,
 "nbformat_minor": 2
}
