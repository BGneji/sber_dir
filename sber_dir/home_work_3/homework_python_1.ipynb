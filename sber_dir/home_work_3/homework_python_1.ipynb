{
 "cells": [
  {
   "cell_type": "markdown",
   "metadata": {},
   "source": [
    "# * Визуализируйте динамику продаж напитков в ParentCategory. Есть ли эффект сезонности в продаж?\n",
    "# * Исследуйте и покажите на графике как отличаются продажи в будние и выходные в категориях 'Сокосодержащие напитки, смузи' и \"Печенье\"  ?\n",
    "# * Визуализируйте структуру продаж ParentCategory по показателю GMV за один месяц. Укажите категорию с наибольшей долей GMV.\n",
    "# * Исследуйте взаимосвясь между продажами категорий 'Чипсы, снеки, попкорн' и напитками:'Вода', 'Газированные напитки',  'Соки, нектары', 'Лимонады', 'Безалкогольное пиво', 'Вино', 'Пиво'. С чем сильнее коррелируют 'Чипсы, снеки, попкорн'?\n"
   ]
  },
  {
   "cell_type": "markdown",
   "metadata": {},
   "source": [
    "# * Визуализируйте динамику продаж напитков в ParentCategory. Есть ли эффект сезонности в продаж?"
   ]
  },
  {
   "cell_type": "code",
   "execution_count": 5,
   "metadata": {},
   "outputs": [],
   "source": [
    "import ast\n",
    "import pandas as pd\n",
    "import matplotlib.pyplot as plt"
   ]
  },
  {
   "cell_type": "code",
   "execution_count": 6,
   "metadata": {},
   "outputs": [],
   "source": [
    "categories = pd.read_pickle('data/categories.pkl')\n",
    "orders = pd.read_pickle('data/orders.pkl')\n",
    "df_drinks = categories[(categories['ParentCategory'] == 'Напитки')]"
   ]
  },
  {
   "cell_type": "code",
   "execution_count": 7,
   "metadata": {},
   "outputs": [
    {
     "data": {
      "text/html": [
       "<div>\n",
       "<style scoped>\n",
       "    .dataframe tbody tr th:only-of-type {\n",
       "        vertical-align: middle;\n",
       "    }\n",
       "\n",
       "    .dataframe tbody tr th {\n",
       "        vertical-align: top;\n",
       "    }\n",
       "\n",
       "    .dataframe thead th {\n",
       "        text-align: right;\n",
       "    }\n",
       "</style>\n",
       "<table border=\"1\" class=\"dataframe\">\n",
       "  <thead>\n",
       "    <tr style=\"text-align: right;\">\n",
       "      <th></th>\n",
       "      <th>OrderID</th>\n",
       "      <th>UserID</th>\n",
       "      <th>OrderTime</th>\n",
       "      <th>items</th>\n",
       "      <th>Date</th>\n",
       "    </tr>\n",
       "  </thead>\n",
       "  <tbody>\n",
       "    <tr>\n",
       "      <th>0</th>\n",
       "      <td>90659865</td>\n",
       "      <td>1.609460e+18</td>\n",
       "      <td>2021-01-01 03:51:42</td>\n",
       "      <td>{'ItemID': '413736', 'price': 36.72, 'quantity...</td>\n",
       "      <td>2021-01-01</td>\n",
       "    </tr>\n",
       "    <tr>\n",
       "      <th>0</th>\n",
       "      <td>90659865</td>\n",
       "      <td>1.609460e+18</td>\n",
       "      <td>2021-01-01 03:51:42</td>\n",
       "      <td>{'ItemID': '523171', 'price': 90.32, 'quantity...</td>\n",
       "      <td>2021-01-01</td>\n",
       "    </tr>\n",
       "    <tr>\n",
       "      <th>0</th>\n",
       "      <td>90659865</td>\n",
       "      <td>1.609460e+18</td>\n",
       "      <td>2021-01-01 03:51:42</td>\n",
       "      <td>{'ItemID': '452831', 'price': 223.11, 'quantit...</td>\n",
       "      <td>2021-01-01</td>\n",
       "    </tr>\n",
       "    <tr>\n",
       "      <th>0</th>\n",
       "      <td>90659865</td>\n",
       "      <td>1.609460e+18</td>\n",
       "      <td>2021-01-01 03:51:42</td>\n",
       "      <td>{'ItemID': '303673', 'price': 59.9, 'quantity'...</td>\n",
       "      <td>2021-01-01</td>\n",
       "    </tr>\n",
       "    <tr>\n",
       "      <th>0</th>\n",
       "      <td>90659865</td>\n",
       "      <td>1.609460e+18</td>\n",
       "      <td>2021-01-01 03:51:42</td>\n",
       "      <td>{'ItemID': '318193', 'price': 319.91, 'quantit...</td>\n",
       "      <td>2021-01-01</td>\n",
       "    </tr>\n",
       "    <tr>\n",
       "      <th>...</th>\n",
       "      <td>...</td>\n",
       "      <td>...</td>\n",
       "      <td>...</td>\n",
       "      <td>...</td>\n",
       "      <td>...</td>\n",
       "    </tr>\n",
       "    <tr>\n",
       "      <th>40374</th>\n",
       "      <td>93266815</td>\n",
       "      <td>1.620119e+18</td>\n",
       "      <td>2021-06-30 23:58:09</td>\n",
       "      <td>{'ItemID': '439036', 'price': 17.5, 'quantity'...</td>\n",
       "      <td>2021-06-30</td>\n",
       "    </tr>\n",
       "    <tr>\n",
       "      <th>40374</th>\n",
       "      <td>93266815</td>\n",
       "      <td>1.620119e+18</td>\n",
       "      <td>2021-06-30 23:58:09</td>\n",
       "      <td>{'ItemID': '303765', 'price': 6.56000000000000...</td>\n",
       "      <td>2021-06-30</td>\n",
       "    </tr>\n",
       "    <tr>\n",
       "      <th>40374</th>\n",
       "      <td>93266815</td>\n",
       "      <td>1.620119e+18</td>\n",
       "      <td>2021-06-30 23:58:09</td>\n",
       "      <td>{'ItemID': '341794', 'price': 69.9, 'quantity'...</td>\n",
       "      <td>2021-06-30</td>\n",
       "    </tr>\n",
       "    <tr>\n",
       "      <th>40374</th>\n",
       "      <td>93266815</td>\n",
       "      <td>1.620119e+18</td>\n",
       "      <td>2021-06-30 23:58:09</td>\n",
       "      <td>{'ItemID': '307216', 'price': 2.99, 'quantity'...</td>\n",
       "      <td>2021-06-30</td>\n",
       "    </tr>\n",
       "    <tr>\n",
       "      <th>40374</th>\n",
       "      <td>93266815</td>\n",
       "      <td>1.620119e+18</td>\n",
       "      <td>2021-06-30 23:58:09</td>\n",
       "      <td>{'ItemID': '322455', 'price': 9.68, 'quantity'...</td>\n",
       "      <td>2021-06-30</td>\n",
       "    </tr>\n",
       "  </tbody>\n",
       "</table>\n",
       "<p>852818 rows × 5 columns</p>\n",
       "</div>"
      ],
      "text/plain": [
       "        OrderID        UserID            OrderTime  \\\n",
       "0      90659865  1.609460e+18  2021-01-01 03:51:42   \n",
       "0      90659865  1.609460e+18  2021-01-01 03:51:42   \n",
       "0      90659865  1.609460e+18  2021-01-01 03:51:42   \n",
       "0      90659865  1.609460e+18  2021-01-01 03:51:42   \n",
       "0      90659865  1.609460e+18  2021-01-01 03:51:42   \n",
       "...         ...           ...                  ...   \n",
       "40374  93266815  1.620119e+18  2021-06-30 23:58:09   \n",
       "40374  93266815  1.620119e+18  2021-06-30 23:58:09   \n",
       "40374  93266815  1.620119e+18  2021-06-30 23:58:09   \n",
       "40374  93266815  1.620119e+18  2021-06-30 23:58:09   \n",
       "40374  93266815  1.620119e+18  2021-06-30 23:58:09   \n",
       "\n",
       "                                                   items        Date  \n",
       "0      {'ItemID': '413736', 'price': 36.72, 'quantity...  2021-01-01  \n",
       "0      {'ItemID': '523171', 'price': 90.32, 'quantity...  2021-01-01  \n",
       "0      {'ItemID': '452831', 'price': 223.11, 'quantit...  2021-01-01  \n",
       "0      {'ItemID': '303673', 'price': 59.9, 'quantity'...  2021-01-01  \n",
       "0      {'ItemID': '318193', 'price': 319.91, 'quantit...  2021-01-01  \n",
       "...                                                  ...         ...  \n",
       "40374  {'ItemID': '439036', 'price': 17.5, 'quantity'...  2021-06-30  \n",
       "40374  {'ItemID': '303765', 'price': 6.56000000000000...  2021-06-30  \n",
       "40374  {'ItemID': '341794', 'price': 69.9, 'quantity'...  2021-06-30  \n",
       "40374  {'ItemID': '307216', 'price': 2.99, 'quantity'...  2021-06-30  \n",
       "40374  {'ItemID': '322455', 'price': 9.68, 'quantity'...  2021-06-30  \n",
       "\n",
       "[852818 rows x 5 columns]"
      ]
     },
     "execution_count": 7,
     "metadata": {},
     "output_type": "execute_result"
    }
   ],
   "source": [
    "# Сначала мы развернем DataFrame по дате\n",
    "df_exploded = orders.explode('items')\n",
    "df_exploded"
   ]
  },
  {
   "cell_type": "code",
   "execution_count": 8,
   "metadata": {},
   "outputs": [],
   "source": [
    "new_df = pd.json_normalize(df_exploded['items'])\n",
    "new_df['Date'] = df_exploded['Date'].values"
   ]
  },
  {
   "cell_type": "code",
   "execution_count": 9,
   "metadata": {},
   "outputs": [],
   "source": [
    "# Создаем новый столбец total_price\n",
    "new_df['total_price'] = new_df['price'] * new_df['quantity']"
   ]
  },
  {
   "cell_type": "code",
   "execution_count": 10,
   "metadata": {},
   "outputs": [],
   "source": [
    "# # Переупорядочим столбцы, если нужно\n",
    "new_df = new_df[['Date', 'ItemID', 'price', 'quantity', 'total_price']]\n"
   ]
  },
  {
   "cell_type": "code",
   "execution_count": 11,
   "metadata": {},
   "outputs": [],
   "source": [
    "# Группируем по ItemID и суммируем total_price и quantity\n",
    "grouped_df = new_df.groupby('ItemID').agg({\n",
    "    'total_price': 'sum',\n",
    "    'quantity': 'sum',\n",
    "    'Date': 'first'  # или ' '.join для объединения всех дат в строку\n",
    "}).reset_index()"
   ]
  },
  {
   "cell_type": "code",
   "execution_count": 12,
   "metadata": {},
   "outputs": [
    {
     "name": "stdout",
     "output_type": "stream",
     "text": [
      "       ItemID  total_price  quantity        Date  \\\n",
      "0     1000046      3810.38       145  2021-01-04   \n",
      "1     1000049       898.52        30  2021-02-15   \n",
      "2     1000115       519.80         2  2021-06-12   \n",
      "3     1000221       225.70         3  2021-04-07   \n",
      "4     1000237        65.90         1  2021-04-11   \n",
      "...       ...          ...       ...         ...   \n",
      "3037   999114       376.71         3  2021-01-05   \n",
      "3038   999115      1740.02        11  2021-01-05   \n",
      "3039   999120        91.00         1  2021-06-24   \n",
      "3040   999260        63.90         1  2021-01-27   \n",
      "3041   999542      3899.60        67  2021-01-22   \n",
      "\n",
      "                            Category ParentCategory  \n",
      "0                               Вода        Напитки  \n",
      "1                               Вода        Напитки  \n",
      "2                               Кофе        Напитки  \n",
      "3                      Соки, нектары        Напитки  \n",
      "4                      Соки, нектары        Напитки  \n",
      "...                              ...            ...  \n",
      "3037          Квас и квасные напитки        Напитки  \n",
      "3038  Морсы, узвары, кисели, компоты        Напитки  \n",
      "3039                        Лимонады        Напитки  \n",
      "3040            Газированные напитки        Напитки  \n",
      "3041             Безалкогольное пиво        Напитки  \n",
      "\n",
      "[3042 rows x 6 columns]\n"
     ]
    },
    {
     "data": {
      "image/png": "[encoded data removed]",
      "text/plain": [
       "<Figure size 1000x600 with 1 Axes>"
      ]
     },
     "metadata": {},
     "output_type": "display_data"
    }
   ],
   "source": [
    "final_df = pd.merge(grouped_df, df_drinks, on='ItemID')\n",
    "print(final_df)\n",
    "# final_df.to_excel('final_df.xlsx', index=False)\n",
    "\n",
    "\n",
    "\n",
    "\n",
    "# Создаем столбчатую диаграмму\n",
    "plt.figure(figsize=(10, 6))\n",
    "plt.bar(final_df['Date'], final_df['total_price'], color='skyblue')\n",
    "plt.title('Total Price by Date')\n",
    "plt.xlabel('Date')\n",
    "plt.ylabel('Total Price')\n",
    "plt.xticks(rotation=45)\n",
    "plt.grid(axis='y')\n",
    "plt.tight_layout()\n",
    "plt.show()"
   ]
  }
 ],
 "metadata": {
  "kernelspec": {
   "display_name": "Python 3",
   "language": "python",
   "name": "python3"
  },
  "language_info": {
   "codemirror_mode": {
    "name": "ipython",
    "version": 3
   },
   "file_extension": ".py",
   "mimetype": "text/x-python",
   "name": "python",
   "nbconvert_exporter": "python",
   "pygments_lexer": "ipython3",
   "version": "3.12.3"
  }
 },
 "nbformat": 4,
 "nbformat_minor": 2
}
