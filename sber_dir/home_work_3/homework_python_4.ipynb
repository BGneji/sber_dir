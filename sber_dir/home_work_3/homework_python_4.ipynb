{
 "cells": [
  {
   "cell_type": "markdown",
   "metadata": {},
   "source": [
    " Исследуйте взаимосвясь между продажами\n",
    " категорий 'Чипсы, снеки, попкорн' и напитками:'Вода', 'Газированные напитки',  '\n",
    "Соки, нектары', 'Лимонады', 'Безалкогольное пиво', 'Вино', 'Пиво'. С чем сильнее коррелируют\n",
    " 'Чипсы, снеки, попкорн'?"
   ]
  },
  {
   "cell_type": "code",
   "execution_count": 5,
   "metadata": {},
   "outputs": [],
   "source": [
    "import pandas as pd\n",
    "import matplotlib.pyplot as plt\n",
    "import seaborn as sns"
   ]
  },
  {
   "cell_type": "code",
   "execution_count": 6,
   "metadata": {},
   "outputs": [],
   "source": [
    "pd.set_option('display.max_columns', None)\n",
    "pd.set_option('display.expand_frame_repr', False)\n",
    "\n",
    "categories = pd.read_pickle('data/categories.pkl')\n",
    "orders = pd.read_pickle('data/orders.pkl')\n",
    "category = categories[['Category', 'ItemID', 'ParentCategory']]\n",
    "\n",
    "df_exploded = orders.explode('items')"
   ]
  },
  {
   "cell_type": "code",
   "execution_count": 7,
   "metadata": {},
   "outputs": [
    {
     "name": "stdout",
     "output_type": "stream",
     "text": [
      "        OrderID  ItemID   price  quantity                                           Category ParentCategory\n",
      "72     89730791       5  256.12        32  чипсы, снеки, попкорн, вода, газированные напитки        Бакалея\n",
      "129    90113514       6  632.84        16  соки, нектары, газированные напитки, чипсы, сн...        Напитки\n",
      "344    90560203       2  189.80         2                        чипсы, снеки, попкорн, вода        Бакалея\n",
      "423    90612856       3  279.70         3  чипсы, снеки, попкорн, соки, нектары, газирова...        Бакалея\n",
      "491    90653028      10  504.47        19  соки, нектары, лимонады, вода, чипсы, снеки, п...        Напитки\n",
      "...         ...     ...     ...       ...                                                ...            ...\n",
      "10324  92585988       3  237.00         3               чипсы, снеки, попкорн, соки, нектары        Бакалея\n",
      "10475  92618349       2  209.83         7        чипсы, снеки, попкорн, газированные напитки        Бакалея\n",
      "10682  92654277       2  110.26         7                        чипсы, снеки, попкорн, вода        Бакалея\n",
      "11302  92775480       2  162.80        13        чипсы, снеки, попкорн, газированные напитки        Бакалея\n",
      "12054  92926552       2  204.80         5        чипсы, снеки, попкорн, газированные напитки        Бакалея\n",
      "\n",
      "[65 rows x 6 columns]\n"
     ]
    }
   ],
   "source": [
    "\n",
    "new_df = pd.json_normalize(df_exploded['items'])\n",
    "new_df['OrderID'] = df_exploded['OrderID'].values\n",
    "# print(new_df)\n",
    "# print(category)\n",
    "\n",
    "filter_list = ['чипсы, снеки, попкорн', 'вода', 'газированные напитки',\n",
    "               'соки, нектары', 'лимонады', 'безалкогольное пиво', 'вино', 'пиво']\n",
    "# filter_list = ['чипсы, снеки, попкорн']\n",
    "\n",
    "# list_of_snacks = ['чипсы', 'снеки', 'попкорн', 'чипсы, снеки, попкорн']\n",
    "list_of_snacks = ['чипсы, снеки, попкорн,']\n",
    "\n",
    "list_of_drinks = ['вода', 'газированные напитки', 'соки, нектары', 'лимонады', 'безалкогольное пиво', 'вино', 'пиво']\n",
    "\n",
    "\n",
    "final_df = pd.merge(new_df, category, on='ItemID')\n",
    "final_df['Category'] = final_df['Category'].str.lower()\n",
    "\n",
    "final_df = final_df[(final_df['Category'].isin(filter_list))]\n",
    "# print(final_df)\n",
    "\n",
    "\n",
    "# Объединение по OrderID\n",
    "result = final_df.groupby('OrderID').agg({\n",
    "    'ItemID': 'count',  # количество товаров в заказе\n",
    "    'price': 'sum',     # общая цена\n",
    "    'quantity': 'sum',  # общее количество\n",
    "    'Category': lambda x: ', '.join(x.unique()),  # все уникальные категории\n",
    "    'ParentCategory': 'first'  # первая родительская категория\n",
    "}).reset_index()\n",
    "\n",
    "\n",
    "\n",
    "# Фильтрация DataFrame\n",
    "# Проверяем, содержит ли Category закуски и другие значения\n",
    "def contains_snacks_and_more(category):\n",
    "    # Проверяем, есть ли закуски в категории\n",
    "    has_snacks = any(snack in category for snack in list_of_snacks)\n",
    "    # Проверяем, есть ли другие значения (не только закуски)\n",
    "    has_other_items = len(category.split(',')) > len(list_of_snacks)\n",
    "    return has_snacks and has_other_items\n",
    "\n",
    "# Применяем фильтрацию\n",
    "filtered_df = result[result['Category'].apply(contains_snacks_and_more)]\n",
    "\n",
    "# Выводим отфильтрованный DataFrame\n",
    "print(filtered_df)"
   ]
  },
  {
   "cell_type": "markdown",
   "metadata": {},
   "source": [
    "Внимание не доделал, не понимаю как все соеденить "
   ]
  }
 ],
 "metadata": {
  "kernelspec": {
   "display_name": "Python 3",
   "language": "python",
   "name": "python3"
  },
  "language_info": {
   "codemirror_mode": {
    "name": "ipython",
    "version": 3
   },
   "file_extension": ".py",
   "mimetype": "text/x-python",
   "name": "python",
   "nbconvert_exporter": "python",
   "pygments_lexer": "ipython3",
   "version": "3.12.3"
  }
 },
 "nbformat": 4,
 "nbformat_minor": 2
}
