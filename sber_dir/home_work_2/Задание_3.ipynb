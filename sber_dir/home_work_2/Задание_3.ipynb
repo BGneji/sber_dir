{
 "cells": [
  {
   "cell_type": "markdown",
   "metadata": {
    "cellId": "fcbf6fbf-2b56-4f42-a4fb-7811fa6a6f80"
   },
   "source": [
    "В файле <i>orders</i> представлена информация о заказах в онлайн-магазине.\n",
    "```\n",
    "OrderID - ID Заказа,\n",
    "UserID - ID клиента,\n",
    "OrderTime - время заказа,\n",
    "items - список элементов в заказе, каждый элемент описан словарем:\n",
    "    ItemID  - ID продукта, \n",
    "    price - цена единицы товара, \n",
    "    quantity - количество единиц товара в заказе\n",
    "```\n",
    "В файле <i>categories</i> представлена информация о категории товаров.\n",
    "```\n",
    "ItemID - ID продукта,\n",
    "Category - категория продукта,\n",
    "ParentCategory - более крупная категория продукта\n",
    "```"
   ]
  },
  {
   "cell_type": "markdown",
   "metadata": {
    "cellId": "c2366c6a-18f2-4dda-95d9-a80b59612f29"
   },
   "source": [
    "## Анализ логов продуктового магазина"
   ]
  },
  {
   "cell_type": "markdown",
   "metadata": {
    "cellId": "e534da09-d249-4101-af31-2d3a7b264697",
    "execution_id": "d9694136-09e6-49f8-81b9-063ed9896e0e"
   },
   "source": [
    "Представьте, что вы работаете аналитиком онлайн-магазина и ваша цель - повысить GMV (суммарную выручку от продажи товаров). Для этого вы хотите провести ряд исследований и придумать какие-то меры для увеличения выручки."
   ]
  },
  {
   "cell_type": "markdown",
   "metadata": {},
   "source": [
    "* Определите, какого числа было сделано больше всего заказов?\n",
    "* Найдите топ-3 ParentCategory по GMV (суммарная выручка, которую принесла продажа товаров этой категории)\n",
    "* Напишите функцию, которая принимает на вход OrderID и рекомендует ItemID продукта для корзины этого заказа. Проверьте работу этой функции."
   ]
  },
  {
   "cell_type": "code",
   "execution_count": 11,
   "metadata": {},
   "outputs": [],
   "source": [
    "# %pip install pandas"
   ]
  },
  {
   "cell_type": "markdown",
   "metadata": {},
   "source": [
    "Напишите функцию, которая принимает на вход OrderID и рекомендует ItemID продукта для корзины этого заказа.\n",
    "Проверьте работу этой функции."
   ]
  },
  {
   "cell_type": "code",
   "execution_count": 20,
   "metadata": {
    "cellId": "o451uej02dbxv838otnfia",
    "execution": {
     "iopub.execute_input": "2024-09-03T06:53:50.442286Z",
     "iopub.status.busy": "2024-09-03T06:53:50.441271Z",
     "iopub.status.idle": "2024-09-03T06:53:50.459492Z",
     "shell.execute_reply": "2024-09-03T06:53:50.458783Z",
     "shell.execute_reply.started": "2024-09-03T06:53:50.442232Z"
    },
    "tags": []
   },
   "outputs": [],
   "source": [
    "import pandas as pd"
   ]
  },
  {
   "cell_type": "code",
   "execution_count": 21,
   "metadata": {
    "cellId": "1e2c2f81-5469-4476-ba2b-3b8af2264bf3",
    "execution": {
     "iopub.execute_input": "2024-09-03T06:53:52.475031Z",
     "iopub.status.busy": "2024-09-03T06:53:52.473829Z",
     "iopub.status.idle": "2024-09-03T06:53:52.531274Z",
     "shell.execute_reply": "2024-09-03T06:53:52.530599Z",
     "shell.execute_reply.started": "2024-09-03T06:53:52.474992Z"
    },
    "tags": []
   },
   "outputs": [],
   "source": [
    "categories = pd.read_pickle('data/categories.pkl')\n",
    "orders = pd.read_pickle('data/orders.pkl')"
   ]
  },
  {
   "cell_type": "code",
   "execution_count": 22,
   "metadata": {},
   "outputs": [],
   "source": [
    "df_OrderID_items = orders[['UserID','OrderID', 'items']]\n",
    "df_categories = categories[['ItemID', 'Category']]"
   ]
  },
  {
   "cell_type": "code",
   "execution_count": 23,
   "metadata": {},
   "outputs": [
    {
     "name": "stdout",
     "output_type": "stream",
     "text": [
      "Закажите товар Вода\n"
     ]
    }
   ],
   "source": [
    "\n",
    "\n",
    "def find_order(OrderID):\n",
    "    try:\n",
    "        OrderID = int(OrderID)\n",
    "    # получаем dataframe по ордеру и обнуляем индексы для получения user через метод get\n",
    "        df_OrderID_one = df_OrderID_items[df_OrderID_items['OrderID'] == OrderID].reset_index(drop=True)\n",
    "\n",
    "        user_id_one = df_OrderID_one['UserID'].get(0)\n",
    "        # получаем все заказы user\n",
    "        all_orders_user = df_OrderID_items[df_OrderID_items['UserID'] == user_id_one]\n",
    "\n",
    "        all_item_user = all_orders_user['items']\n",
    "        # print(all_item_user)\n",
    "\n",
    "        data = []\n",
    "        for i in all_item_user:\n",
    "            data += i\n",
    "        df_items = pd.DataFrame(data)\n",
    "        summed_df = df_items.groupby('ItemID', as_index=False).sum().sort_values(by='quantity', ascending=False).reset_index(drop=True)\n",
    "\n",
    "        def my_fun(ItemID):\n",
    "            # print(type(ItemID))\n",
    "            for i in df_OrderID_one['items']:\n",
    "                for j in i:\n",
    "                    if int(ItemID) == (int(list(j.values())[0])):\n",
    "                        print('ТУТ')\n",
    "                        return True\n",
    "                    else:\n",
    "                        return False\n",
    "\n",
    "        for i in summed_df['ItemID']:\n",
    "            # if int(i) in [341996, 509173, 308817]:\n",
    "            #     continue\n",
    "            s = my_fun(str(i))\n",
    "            if s == False:\n",
    "                new_ItemID = df_categories.loc[df_categories['ItemID'] == str(i), 'Category'].values[0]\n",
    "                print(f'Закажите товар {new_ItemID}')\n",
    "                break\n",
    "    except (KeyError, ValueError) as e:\n",
    "        print('Такого ордера не существует')\n",
    "        OrderID = int(input('Введите номер ордера: '))\n",
    "        find_order(OrderID)\n",
    "\n",
    "OrderID = input('Введите номер ордера: ')\n",
    "find_order(OrderID)\n",
    "# find_order(OrderID = 90582308)\n",
    "\n"
   ]
  }
 ],
 "metadata": {
  "kernelspec": {
   "display_name": "DataSphere Kernel",
   "language": "python",
   "name": "python3"
  },
  "language_info": {
   "codemirror_mode": {
    "name": "ipython",
    "version": 3
   },
   "file_extension": ".py",
   "mimetype": "text/x-python",
   "name": "python",
   "nbconvert_exporter": "python",
   "pygments_lexer": "ipython3",
   "version": "3.12.3"
  },
  "notebookId": "e73e2496-374c-470d-91db-240a39c30c02",
  "notebookPath": "data/onlineShopping.ipynb"
 },
 "nbformat": 4,
 "nbformat_minor": 4
}
